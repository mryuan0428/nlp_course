{
 "cells": [
  {
   "cell_type": "markdown",
   "metadata": {},
   "source": [
    "## Domain adaptation (5 pts total)\n",
    "\n",
    "In this seminar you will adapt a pre-trained machine translation model for the hotel review translation task you solved a few weeks ago. \n",
    "\n",
    "This time it comes with a few complications:\n",
    "* Harder task: __en -> ru__ instead of __ru -> en__\n",
    "* You are given a model pre-trained on WMT. Visit [statmt.org](http://statmt.org/) for more details.\n",
    "* The baseline model already includes attention and some hacks\n",
    "\n",
    "With luck and skills on your side, you will adapt it to improve hotel translation quality."
   ]
  },
  {
   "cell_type": "code",
   "execution_count": 1,
   "metadata": {},
   "outputs": [
    {
     "name": "stdout",
     "output_type": "stream",
     "text": [
      "--2018-11-24 09:01:20--  https://github.com/yandexdataschool/nlp_course/raw/master/week9_da/data.tar.gz\n",
      "Resolving github.com (github.com)... 140.82.118.3, 140.82.118.4\n",
      "Connecting to github.com (github.com)|140.82.118.3|:443... connected.\n",
      "HTTP request sent, awaiting response... 404 Not Found\n",
      "2018-11-24 09:01:20 ERROR 404: Not Found.\n",
      "\n",
      "--2018-11-24 09:01:20--  https://raw.githubusercontent.com/yandexdataschool/nlp_course/master/week9_da/utils.py\n",
      "Resolving raw.githubusercontent.com (raw.githubusercontent.com)... 151.101.84.133\n",
      "Connecting to raw.githubusercontent.com (raw.githubusercontent.com)|151.101.84.133|:443... connected.\n",
      "HTTP request sent, awaiting response... 404 Not Found\n",
      "2018-11-24 09:01:21 ERROR 404: Not Found.\n",
      "\n",
      "data/\n",
      "data/tokens.ru\n",
      "data/train.domain.ru\n",
      "data/tokens.en\n",
      "data/bpe_rules.en\n",
      "data/train.domain.en\n",
      "data/bpe_rules.ru\n",
      "--2018-11-24 09:01:21--  https://www.dropbox.com/s/xm73pjug7eq1rff/model-pretrained.npz?dl=1\n",
      "Resolving www.dropbox.com (www.dropbox.com)... 162.125.66.1, 2620:100:6022:1::a27d:4201\n",
      "Connecting to www.dropbox.com (www.dropbox.com)|162.125.66.1|:443... connected.\n",
      "HTTP request sent, awaiting response... 301 Moved Permanently\n",
      "Location: /s/dl/xm73pjug7eq1rff/model-pretrained.npz [following]\n",
      "--2018-11-24 09:01:22--  https://www.dropbox.com/s/dl/xm73pjug7eq1rff/model-pretrained.npz\n",
      "Reusing existing connection to www.dropbox.com:443.\n",
      "HTTP request sent, awaiting response... 302 Found\n",
      "Location: https://uc7292883f71ad693a3049fd87d5.dl.dropboxusercontent.com/cd/0/get/AWN2mukqWw3-RL1cUMLWXG8vlkSzgsamIhNSpTomX4sbKdHp7ewvBZU2CgO9OxYjkQOWGCzQRJ0Jk4wMeeSSHQrSom_FlpSyi0bUUpbTdBUsnk-9tHwn4jvqURrMZctWMVFv4j3nbhYcQhlhunfYGrRFZuGAyk7hkg1vDT5Wf8l6nJ8cFKr_-BfAEZUeaNYsw_0/file?dl=1 [following]\n",
      "--2018-11-24 09:01:22--  https://uc7292883f71ad693a3049fd87d5.dl.dropboxusercontent.com/cd/0/get/AWN2mukqWw3-RL1cUMLWXG8vlkSzgsamIhNSpTomX4sbKdHp7ewvBZU2CgO9OxYjkQOWGCzQRJ0Jk4wMeeSSHQrSom_FlpSyi0bUUpbTdBUsnk-9tHwn4jvqURrMZctWMVFv4j3nbhYcQhlhunfYGrRFZuGAyk7hkg1vDT5Wf8l6nJ8cFKr_-BfAEZUeaNYsw_0/file?dl=1\n",
      "Resolving uc7292883f71ad693a3049fd87d5.dl.dropboxusercontent.com (uc7292883f71ad693a3049fd87d5.dl.dropboxusercontent.com)... 162.125.66.6, 2620:100:6022:6::a27d:4206\n",
      "Connecting to uc7292883f71ad693a3049fd87d5.dl.dropboxusercontent.com (uc7292883f71ad693a3049fd87d5.dl.dropboxusercontent.com)|162.125.66.6|:443... connected.\n",
      "HTTP request sent, awaiting response... 200 OK\n",
      "Length: 145546138 (139M) [application/binary]\n",
      "Saving to: ‘model-pretrained.npz’\n",
      "\n",
      "model-pretrained.np 100%[===================>] 138.80M  37.5MB/s    in 5.7s    \n",
      "\n",
      "2018-11-24 09:01:29 (24.3 MB/s) - ‘model-pretrained.npz’ saved [145546138/145546138]\n",
      "\n"
     ]
    }
   ],
   "source": [
    "!pip3 install subword-nmt &> log\n",
    "!wget https://github.com/yandexdataschool/nlp_course/raw/master/week9_da/data.tar.gz\n",
    "!wget https://raw.githubusercontent.com/yandexdataschool/nlp_course/master/week9_da/utils.py\n",
    "!tar -xvzf data.tar.gz\n",
    "!mv data/* .\n",
    "!wget https://www.dropbox.com/s/xm73pjug7eq1rff/model-pretrained.npz?dl=1 -O model-pretrained.npz"
   ]
  },
  {
   "cell_type": "markdown",
   "metadata": {},
   "source": [
    "### Data preprocessing\n",
    "\n",
    "We provide you with a pre-trained model that uses Byte Pair Encodings [(bpe)](https://github.com/rsennrich/subword-nmt) to segment rare words into sub-word units. \n",
    "\n",
    "It is important that we fine-tune our model using the same set of BPE rules."
   ]
  },
  {
   "cell_type": "code",
   "execution_count": 1,
   "metadata": {},
   "outputs": [],
   "source": [
    "import numpy as np\n",
    "from nltk.tokenize import WordPunctTokenizer\n",
    "from subword_nmt.apply_bpe import BPE\n",
    "tokenizer = WordPunctTokenizer()\n",
    "def tokenize(x):\n",
    "    return ' '.join(tokenizer.tokenize(x.lower()))\n",
    "\n",
    "bpe = {}\n",
    "for lang in ['en', 'ru']:\n",
    "    bpe[lang] = BPE(open('./bpe_rules.' + lang))"
   ]
  },
  {
   "cell_type": "code",
   "execution_count": 2,
   "metadata": {},
   "outputs": [
    {
     "name": "stdout",
     "output_type": "stream",
     "text": [
      "ска@@ жи : какого цвета глаза у вет@@ ра ?\n"
     ]
    }
   ],
   "source": [
    "print(bpe['ru'].process_line(tokenize(\"Скажи: какого цвета глаза у ветра?\")))"
   ]
  },
  {
   "cell_type": "code",
   "execution_count": 3,
   "metadata": {},
   "outputs": [
    {
     "name": "stdout",
     "output_type": "stream",
     "text": [
      "cordelia hotel is situated in tbilisi , a 3 - minute walk away from saint trinity church .\n",
      "\n",
      "отель cordelia расположен в тбилиси , в 3 минутах ходьбы от свято - троицкого собора .\n",
      "\n"
     ]
    }
   ],
   "source": [
    "data_inp_raw = list(open('./train.domain.en'))\n",
    "data_out_raw = list(open('./train.domain.ru'))\n",
    "\n",
    "print(data_inp_raw[0])\n",
    "print(data_out_raw[0])"
   ]
  },
  {
   "cell_type": "code",
   "execution_count": 4,
   "metadata": {},
   "outputs": [],
   "source": [
    "# convert lines into space-separated tokenized bpe units\n",
    "data_inp = [bpe['en'].process_line(tokenize(line)) for line in data_inp_raw]\n",
    "data_out = [bpe['ru'].process_line(tokenize(line)) for line in data_out_raw]"
   ]
  },
  {
   "cell_type": "code",
   "execution_count": 5,
   "metadata": {},
   "outputs": [],
   "source": [
    "assert data_inp[0] == 'cor@@ del@@ ia hotel is situated in t@@ bil@@ isi , a 3 - minute walk away from saint tr@@ inity church .'\n",
    "assert data_out[500] == 'некоторые номера также располага@@ ют бал@@ ко@@ ном или тер@@ ра@@ со@@ й .'"
   ]
  },
  {
   "cell_type": "code",
   "execution_count": 6,
   "metadata": {},
   "outputs": [],
   "source": [
    "from sklearn.model_selection import train_test_split\n",
    "data_inp, data_out = map(np.array, [data_inp, data_out])\n",
    "train_inp, dev_inp, train_out, dev_out = train_test_split(data_inp, data_out, test_size=3000,\n",
    "                                                          random_state=42)"
   ]
  },
  {
   "cell_type": "markdown",
   "metadata": {},
   "source": [
    "### Model\n",
    "\n",
    "For this assignment, you are given a pre-trained neural machine translation model:\n",
    "* bidirectional LSTM encoder\n",
    "* single LSTM decoder with additive attention\n",
    "\n",
    "It was trained till convergence on the general dataset of news, websites and literature.\n"
   ]
  },
  {
   "cell_type": "code",
   "execution_count": 7,
   "metadata": {},
   "outputs": [
    {
     "name": "stderr",
     "output_type": "stream",
     "text": [
      "Using TensorFlow backend.\n"
     ]
    },
    {
     "name": "stdout",
     "output_type": "stream",
     "text": [
      "WARNING:tensorflow:From /usr/local/lib/python3.6/dist-packages/tensorflow/python/ops/rnn.py:430: calling reverse_sequence (from tensorflow.python.ops.array_ops) with seq_dim is deprecated and will be removed in a future version.\n",
      "Instructions for updating:\n",
      "seq_dim is deprecated, use seq_axis instead\n",
      "WARNING:tensorflow:From /usr/local/lib/python3.6/dist-packages/tensorflow/python/util/deprecation.py:454: calling reverse_sequence (from tensorflow.python.ops.array_ops) with batch_dim is deprecated and will be removed in a future version.\n",
      "Instructions for updating:\n",
      "batch_dim is deprecated, use batch_axis instead\n"
     ]
    }
   ],
   "source": [
    "import numpy as np\n",
    "import tensorflow as tf\n",
    "import utils\n",
    "tf.reset_default_graph()\n",
    "sess = tf.InteractiveSession()\n",
    "\n",
    "inp_voc = utils.Vocab(open('tokens.en').read().split('\\n'))\n",
    "out_voc = utils.Vocab(open('tokens.ru').read().split('\\n'))\n",
    "\n",
    "model = utils.Model('mod', inp_voc, out_voc)\n",
    "utils.load(tf.trainable_variables(), 'model-pretrained.npz')"
   ]
  },
  {
   "cell_type": "code",
   "execution_count": 8,
   "metadata": {},
   "outputs": [
    {
     "name": "stdout",
     "output_type": "stream",
     "text": [
      "['я - памят@@ ник всем гре@@ ха@@ м']\n"
     ]
    }
   ],
   "source": [
    "src = 'i am the monument to all your sins'\n",
    "src = bpe['en'].process_line(tokenize(src))\n",
    "trans, _ = model.translate_lines([src])\n",
    "print(trans)"
   ]
  },
  {
   "cell_type": "markdown",
   "metadata": {},
   "source": [
    "### Estimate baseline quality\n",
    "\n",
    "As before, we shall estimate our model's quality using [BLEU](https://en.wikipedia.org/wiki/BLEU) metric.\n",
    "\n",
    "This metric simply computes which fraction of predicted n-grams is actually present in the reference translation. It does so for n=1,2,3 and 4 and computes the geometric average with penalty if translation is shorter than reference.\n",
    "\n",
    "One important thing about BLEU is that it is usually computed on a __corpora level__:\n",
    "* first you count precisions over the entire test set\n",
    "* then you do the geometric averaging and apply penalties"
   ]
  },
  {
   "cell_type": "code",
   "execution_count": 9,
   "metadata": {},
   "outputs": [],
   "source": [
    "from nltk.translate.bleu_score import corpus_bleu\n",
    "def bleu(references, translations):\n",
    "    \"\"\" Estimates corpora-level BLEU score of predicted translations given references \"\"\"\n",
    "    return corpus_bleu([[ref.split()] for ref in references], \n",
    "                       [trans.split() for trans in translations]) * 100"
   ]
  },
  {
   "cell_type": "code",
   "execution_count": 11,
   "metadata": {},
   "outputs": [
    {
     "data": {
      "text/plain": [
       "58.143073696821936"
      ]
     },
     "execution_count": 11,
     "metadata": {},
     "output_type": "execute_result"
    }
   ],
   "source": [
    "bleu(['a cat sat on a mat', 'i love bees'], \n",
    "     ['a cat sat on a cat', 'i hate people'])"
   ]
  },
  {
   "cell_type": "markdown",
   "metadata": {},
   "source": [
    "__Task 1 (1 point):__ evaluate baseline BLEU\n"
   ]
  },
  {
   "cell_type": "code",
   "execution_count": 10,
   "metadata": {},
   "outputs": [],
   "source": [
    "def evaluate(model, inp_lines, out_lines):\n",
    "    \"\"\"\n",
    "    Estimates model's corpora level bleu\n",
    "    :param inp_lines: a list of BPE strings in source language\n",
    "    :param out_lines: a list of BPE strings in target language\n",
    "    :returns: model's BLEU (float scalar)\n",
    "    \n",
    "    Important:\n",
    "    * Make sure to de-BPEize both translations and references. You can do that with str.replace\n",
    "    * Use model.translate_lines with default max_len\n",
    "    * If you're low on RAM, split data in several batches and translate sequentially\n",
    "    \"\"\"\n",
    "    \n",
    "    translate = model.translate_lines(inp_lines)[0]\n",
    "    \n",
    "    new_translate = [line.replace('@@ ', '') for line in translate]\n",
    "    new_out = [line.replace('@@ ', '') for line in out_lines]\n",
    "    return bleu(new_translate, new_out)"
   ]
  },
  {
   "cell_type": "code",
   "execution_count": 28,
   "metadata": {},
   "outputs": [
    {
     "data": {
      "text/plain": [
       "24.997586289566474"
      ]
     },
     "execution_count": 28,
     "metadata": {},
     "output_type": "execute_result"
    }
   ],
   "source": [
    "evaluate(model, dev_inp[:500], dev_out[:500])"
   ]
  },
  {
   "cell_type": "markdown",
   "metadata": {},
   "source": [
    "### Naive training (1.5 points)\n",
    "\n",
    "The simplest thing you can do in supervised domain adaptation is to simply fine-tune your model on the target domain data.\n",
    "\n",
    "Here's a reminder of what training objective looks like:\n",
    "$$ L = {\\frac1{|D|}} \\sum_{X, Y \\in D} \\sum_{y_t \\in Y} - \\log p(y_t \\mid y_1, \\dots, y_{t-1}, X, \\theta) $$\n",
    "\n",
    "where $|D|$ is the __total length of all sequences__.\n",
    "\n"
   ]
  },
  {
   "cell_type": "code",
   "execution_count": 11,
   "metadata": {
    "scrolled": true
   },
   "outputs": [],
   "source": [
    "from utils import select_values_over_last_axis\n",
    "\n",
    "def compute_loss(model, inp, out, **flags):\n",
    "    \"\"\"\n",
    "    Compute loss (float32 scalar) as in the formula above\n",
    "    :param inp: input tokens matrix, int32[batch, time]\n",
    "    :param out: reference tokens matrix, int32[batch, time]\n",
    "    \"\"\"\n",
    "    first_state = model.encode(inp, **flags)\n",
    "    batch_size = tf.shape(inp)[0]\n",
    "    bos = tf.fill([batch_size], model.out_voc.bos_ix)\n",
    "    first_logits = tf.log(tf.one_hot(bos, len(model.out_voc)) + 1e-30)\n",
    "    \n",
    "    def step(blob, y_prev):\n",
    "        h_prev = blob[:-1]\n",
    "        h_new, logits = model.decode(h_prev, y_prev, **flags)\n",
    "        return list(h_new) + [logits]\n",
    "\n",
    "    *states_seq, logits_seq = tf.scan(step,\n",
    "                                       initializer=list(first_state) + [first_logits],\n",
    "                                       elems=tf.transpose(out))\n",
    "\n",
    "    # gather state and logits, each of shape [time, batch, ...]\n",
    "    logits_seq = tf.concat((first_logits[None], logits_seq),axis=0)\n",
    "    #convert from [time, batch,...] to [batch, time, ...]\n",
    "    logits_seq = tf.transpose(logits_seq, [1, 0, 2])\n",
    "    \n",
    "    logprobs_seq = tf.nn.log_softmax(logits_seq, dim=-1)\n",
    "    \n",
    "    logp_out = select_values_over_last_axis(logprobs_seq, out)\n",
    "    mask = utils.infer_mask(out, out_voc.eos_ix)\n",
    "    return -tf.reduce_sum(logp_out * mask) / tf.reduce_sum(mask)"
   ]
  },
  {
   "cell_type": "markdown",
   "metadata": {},
   "source": [
    "### Training loop"
   ]
  },
  {
   "cell_type": "code",
   "execution_count": 13,
   "metadata": {},
   "outputs": [
    {
     "name": "stdout",
     "output_type": "stream",
     "text": [
      "WARNING:tensorflow:From <ipython-input-11-bf9cafc0a3f6>:28: calling log_softmax (from tensorflow.python.ops.nn_ops) with dim is deprecated and will be removed in a future version.\n",
      "Instructions for updating:\n",
      "dim is deprecated, use axis instead\n"
     ]
    }
   ],
   "source": [
    "inp = tf.placeholder('int32', [None, None])\n",
    "out = tf.placeholder('int32', [None, None])\n",
    "\n",
    "loss = compute_loss(model, inp, out)\n",
    "\n",
    "train_step = tf.train.AdamOptimizer().minimize(loss)\n",
    "utils.initialize_uninitialized()"
   ]
  },
  {
   "cell_type": "code",
   "execution_count": 12,
   "metadata": {
    "scrolled": false
   },
   "outputs": [],
   "source": [
    "import matplotlib.pyplot as plt\n",
    "%matplotlib inline\n",
    "from IPython.display import clear_output\n",
    "# from tqdm import tqdm, trange\n",
    "\n",
    "batch_size = 32\n",
    "metrics = {'train_loss': [], 'dev_bleu': [] }"
   ]
  },
  {
   "cell_type": "code",
   "execution_count": null,
   "metadata": {},
   "outputs": [
    {
     "data": {
      "image/png": "[encoded data removed]",
      "text/plain": [
       "<Figure size 864x288 with 2 Axes>"
      ]
     },
     "metadata": {
      "needs_background": "light"
     },
     "output_type": "display_data"
    },
    {
     "name": "stdout",
     "output_type": "stream",
     "text": [
      "Mean loss=0.722\n"
     ]
    }
   ],
   "source": [
    "for _ in range(10000):\n",
    "    step = len(metrics['train_loss']) + 1\n",
    "    batch_ix = np.random.randint(len(train_inp), size=32)\n",
    "    feed_dict = {\n",
    "        inp: inp_voc.to_matrix(train_inp[batch_ix]),\n",
    "        out: out_voc.to_matrix(train_out[batch_ix]),\n",
    "    }\n",
    "    \n",
    "    loss_t, _ = sess.run([loss, train_step], feed_dict)\n",
    "    metrics['train_loss'].append((step, loss_t))\n",
    "    \n",
    "    if step % 100 == 0:\n",
    "        metrics['dev_bleu'].append((step, evaluate(model, dev_inp, dev_out)))\n",
    "        \n",
    "        clear_output(True)\n",
    "        plt.figure(figsize=(12,4))\n",
    "        for i, (name, history) in enumerate(sorted(metrics.items())):\n",
    "            plt.subplot(1, len(metrics), i + 1)\n",
    "            plt.title(name)\n",
    "            plt.plot(*zip(*history))\n",
    "            plt.grid()\n",
    "        plt.show()\n",
    "        print(\"Mean loss=%.3f\" % np.mean(metrics['train_loss'][-10:], axis=0)[1], flush=True)\n",
    "        \n",
    "# Note: it's okay if bleu oscillates up and down as long as it gets better on average over long term (e.g. 5k batches)"
   ]
  },
  {
   "cell_type": "markdown",
   "metadata": {},
   "source": [
    "During the training proccess I lost my connection with YSDA's cluster and all output stopped displaying. So, let's see the training plot now."
   ]
  },
  {
   "cell_type": "code",
   "execution_count": 22,
   "metadata": {},
   "outputs": [
    {
     "data": {
      "image/png": "[encoded data removed]",
      "text/plain": [
       "<Figure size 864x288 with 2 Axes>"
      ]
     },
     "metadata": {
      "needs_background": "light"
     },
     "output_type": "display_data"
    },
    {
     "name": "stdout",
     "output_type": "stream",
     "text": [
      "Mean loss=0.285\n"
     ]
    }
   ],
   "source": [
    "plt.figure(figsize=(12,4))\n",
    "for i, (name, history) in enumerate(sorted(metrics.items())):\n",
    "    plt.subplot(1, len(metrics), i + 1)\n",
    "    plt.title(name)\n",
    "    plt.plot(*zip(*history))\n",
    "    plt.grid()\n",
    "plt.show()\n",
    "print(\"Mean loss=%.3f\" % np.mean(metrics['train_loss'][-10:], axis=0)[1], flush=True)"
   ]
  },
  {
   "cell_type": "code",
   "execution_count": 23,
   "metadata": {},
   "outputs": [],
   "source": [
    "assert np.mean(metrics['dev_bleu'][-10:], axis=0)[1] > 30, \"We kind of need a higher bleu BLEU from you. Kind of right now.\""
   ]
  },
  {
   "cell_type": "code",
   "execution_count": 25,
   "metadata": {},
   "outputs": [
    {
     "name": "stdout",
     "output_type": "stream",
     "text": [
      "parking is free on site .\n",
      "на территории обустроена бесплатная парковка . \n",
      "\n",
      "holiday inn express rocklin - galleria area provides a continental breakfast and a free newspaper every day .\n",
      "в отеле holiday inn express rocklin _UNK_ galleria area ежедневно подают континентальный завтрак и ежедневные газеты . \n",
      "\n",
      "it features on - site dining , gym facilities and modern accommodation .\n",
      "к услугам гостей бесплатный wi - fi , а также ресторан на территории отеля , тренажерный зал и современные номера . \n",
      "\n",
      "numerous restaurants serving freshly prepared mediterranean cuisine can be reached on foot from remisens premium villa amalia .\n",
      "в ресторане remise premium villa amalia подают свежеприготовленные блюда средиземноморской кухни . \n",
      "\n",
      "just 200 metres from the circuit de catalunya race track , ibis montmeló granollers is a 30 - minute drive from barcelona .\n",
      "отель ibis montmeló granollers находится всего в 200 метрах от трассы для ибит - де - каталунья . поездка до барселоны занимает 30 минут . \n",
      "\n",
      "leon valley golf course is just 6 . 6 miles from the travelodge temple .\n",
      "поле для гольфа leon valley находится всего в 6 , 6 км от отеля travelodge храма . \n",
      "\n",
      "there is also an irish pub in the hostel .\n",
      "в хостеле работает ирландский паб . \n",
      "\n",
      "capital international airport can be reached in 30 minutes ' drive while beijing nanyuan airport is located 17 km away .\n",
      "поездка на автомобиле до международного аэропорта шоуду займет 30 минут , а до пекинского аэропорта наньюань _UNK_ 17 км . \n",
      "\n",
      "a wine country and scenic hiking trails are also available nearby .\n",
      "неподалеку проходят местные достопримечательности и путешественники пеших походов . \n",
      "\n",
      "ideally located in the centre of st peter port , in guernsey , best western moores hotel offers en suite accommodation , a restaurant , a bar and a fitness centre with sauna .\n",
      "отель best western moores идеально расположен в центре санкт - петра в городе гёрнси . к услугам гостей собственная ванная комната , ресторан , бар и фитнес - центр с сауной . \n",
      "\n"
     ]
    }
   ],
   "source": [
    "#print translations of some random dev lines\n",
    "indeces = np.random.choice(np.arange(len(dev_inp)), 10)\n",
    "\n",
    "translation = model.translate_lines(dev_inp[indeces])[0]\n",
    "\n",
    "clear_translation = [line.replace('@@ ', '') for line in translation]\n",
    "\n",
    "for i in range(10):\n",
    "    print(dev_inp[indeces][i].replace('@@ ', ''))\n",
    "    print(clear_translation[i], '\\n')"
   ]
  },
  {
   "cell_type": "markdown",
   "metadata": {},
   "source": [
    "### Domain adaptation with KL penalty (2.5 pts)\n",
    "\n",
    "The problem with fine-tuning is that model can stray too far from the original parameters and forget useful information. One way to mitigate this problem is to use KL penalty:\n",
    "\n",
    "$$ Loss = (1 - \\lambda) \\cdot L_{xent} + \\lambda \\cdot {1 \\over N} \\underset {x, y_t} \\sum KL(P_{teacher}(y_t|x, y_0, ..., y_{t-1}) || P_{student}(y_t|x, y_0, ..., y_{t-1}))$$"
   ]
  },
  {
   "cell_type": "code",
   "execution_count": 14,
   "metadata": {},
   "outputs": [
    {
     "name": "stderr",
     "output_type": "stream",
     "text": [
      "/usr/local/lib/python3.6/dist-packages/tensorflow/python/client/session.py:1645: UserWarning: An interactive session is already active. This can cause out-of-memory errors in some cases. You must explicitly call `InteractiveSession.close()` to release resources held by the other session(s).\n",
      "  warnings.warn('An interactive session is already active. This can '\n",
      "Variables not initialized: mod/enc_fw/i2c:0 mod/enc_fw/h2c:0 mod/enc_fw/b_c:0 mod/enc_fw/i2f:0 mod/enc_fw/h2f:0 mod/enc_fw/b_f:0 mod/enc_fw/i2i:0 mod/enc_fw/h2i:0 mod/enc_fw/b_i:0 mod/enc_fw/i2o:0 mod/enc_fw/h2o:0 mod/enc_fw/b_o:0 mod/enc_bw/i2c:0 mod/enc_bw/h2c:0 mod/enc_bw/b_c:0 mod/enc_bw/i2f:0 mod/enc_bw/h2f:0 mod/enc_bw/b_f:0 mod/enc_bw/i2i:0 mod/enc_bw/h2i:0 mod/enc_bw/b_i:0 mod/enc_bw/i2o:0 mod/enc_bw/h2o:0 mod/enc_bw/b_o:0 mod/decoder/i2c:0 mod/decoder/h2c:0 mod/decoder/b_c:0 mod/decoder/i2f:0 mod/decoder/h2f:0 mod/decoder/b_f:0 mod/decoder/i2i:0 mod/decoder/h2i:0 mod/decoder/b_i:0 mod/decoder/i2o:0 mod/decoder/h2o:0 mod/decoder/b_o:0 mod/attn/dec:0 mod/attn/enc:0 mod/attn/vec:0 mod/embedding_1/embeddings:0 mod/embedding_2/embeddings:0 mod/dense_1/kernel:0 mod/dense_1/bias:0\n"
     ]
    }
   ],
   "source": [
    "tf.reset_default_graph()\n",
    "sess = tf.InteractiveSession()\n",
    "\n",
    "model = utils.Model('mod', inp_voc, out_voc)\n",
    "utils.load(tf.trainable_variables(), 'model-pretrained.npz')\n",
    "\n",
    "teacher = utils.Model('teacher', inp_voc, out_voc)\n",
    "\n",
    "teacher_ckpt = np.load('model-pretrained.npz')\n",
    "teacher_ckpt = { name.replace('mod/', 'teacher/'): teacher_ckpt[name] for name in teacher_ckpt}\n",
    "np.savez('teacher.npz', **teacher_ckpt)\n",
    "utils.load(tf.trainable_variables(), 'teacher.npz')"
   ]
  },
  {
   "cell_type": "code",
   "execution_count": 16,
   "metadata": {},
   "outputs": [],
   "source": [
    "def find_teacher_logits(teacher, inp, **flags):\n",
    "    first_state = teacher.encode(inp, **flags)\n",
    "    batch_size = tf.shape(inp)[0]\n",
    "    bos = tf.fill([batch_size], model.out_voc.bos_ix)\n",
    "    first_logits = tf.log(tf.one_hot(bos, len(model.out_voc)) + 1e-30)\n",
    "    \n",
    "    def step(blob, y_prev):\n",
    "        h_prev = blob[:-1]\n",
    "        h_new, logits = teacher.decode(h_prev, y_prev, **flags)\n",
    "        return list(h_new) + [logits]\n",
    "\n",
    "    *states_seq, logits_seq = tf.scan(step,\n",
    "                                       initializer=list(first_state) + [first_logits],\n",
    "                                       elems=tf.transpose(out))\n",
    "\n",
    "    logits_seq = tf.concat((first_logits[None], logits_seq),axis=0)\n",
    "    logits_seq = tf.transpose(logits_seq, [1, 0, 2])\n",
    "    \n",
    "    probs_seq = tf.nn.softmax(logits_seq, dim=-1)\n",
    "    return probs_seq\n",
    "\n",
    "\n",
    "def compute_loss_with_kl(model, teacher, inp, out, lambda_coeff=0.25, **flags):\n",
    "    \"\"\"\n",
    "    Compute loss (float32 scalar) as in the formula above\n",
    "    :param inp: input tokens matrix, int32[batch, time]\n",
    "    :param out: reference tokens matrix, int32[batch, time]\n",
    "    :param lambda_coeff: lambda from the formula above.\n",
    "    \n",
    "    use lambda_coeff from outer scope\n",
    "    \"\"\"\n",
    "    teacher_probs = find_teacher_logits(teacher, inp, **flags)\n",
    "    \n",
    "    first_state = model.encode(inp, **flags)\n",
    "    batch_size = tf.shape(inp)[0]\n",
    "    bos = tf.fill([batch_size], model.out_voc.bos_ix)\n",
    "    first_logits = tf.log(tf.one_hot(bos, len(model.out_voc)) + 1e-30)\n",
    "    \n",
    "    def step(blob, y_prev):\n",
    "        h_prev = blob[:-1]\n",
    "        h_new, logits = model.decode(h_prev, y_prev, **flags)\n",
    "        return list(h_new) + [logits]\n",
    "\n",
    "    *states_seq, logits_seq = tf.scan(step,\n",
    "                                       initializer=list(first_state) + [first_logits],\n",
    "                                       elems=tf.transpose(out))\n",
    "\n",
    "\n",
    "    logits_seq = tf.concat((first_logits[None], logits_seq),axis=0)\n",
    "    logits_seq = tf.transpose(logits_seq, [1, 0, 2])\n",
    "    \n",
    "    logprobs_seq = tf.nn.log_softmax(logits_seq, dim=-1)\n",
    "    logp_out = select_values_over_last_axis(logprobs_seq, out)\n",
    "    mask = utils.infer_mask(out, out_voc.eos_ix)\n",
    "    loss_student = -tf.reduce_sum(logp_out * mask) / tf.reduce_sum(mask)\n",
    "    \n",
    "    loss_kl = -tf.reduce_sum(tf.multiply(teacher_probs, logprobs_seq)) / tf.reduce_sum(mask)\n",
    "    \n",
    "    return (1 - lambda_coeff) * loss_student + lambda_coeff * loss_kl"
   ]
  },
  {
   "cell_type": "code",
   "execution_count": null,
   "metadata": {},
   "outputs": [
    {
     "data": {
      "image/png": "[encoded data removed]",
      "text/plain": [
       "<Figure size 864x288 with 2 Axes>"
      ]
     },
     "metadata": {
      "needs_background": "light"
     },
     "output_type": "display_data"
    },
    {
     "name": "stdout",
     "output_type": "stream",
     "text": [
      "Mean loss=0.806\n"
     ]
    }
   ],
   "source": [
    "### Do it yourself: create training step operations and \n",
    "# feel free to copy the code from simple fine-tuning\n",
    "\n",
    "inp = tf.placeholder('int32', [None, None])\n",
    "out = tf.placeholder('int32', [None, None])\n",
    "\n",
    "loss = compute_loss_with_kl(model, teacher, inp, out)\n",
    "\n",
    "train_step = tf.train.AdamOptimizer().minimize(loss)\n",
    "utils.initialize_uninitialized()\n",
    "\n",
    "\n",
    "batch_size = 32\n",
    "metrics_kl = {'train_loss': [], 'dev_bleu': [] }\n",
    "\n",
    "\n",
    "\n",
    "for _ in range(1000):\n",
    "    step = len(metrics_kl['train_loss']) + 1\n",
    "    batch_ix = np.random.randint(len(train_inp), size=32)\n",
    "    feed_dict = {\n",
    "        inp: inp_voc.to_matrix(train_inp[batch_ix]),\n",
    "        out: out_voc.to_matrix(train_out[batch_ix]),\n",
    "    }\n",
    "    \n",
    "    loss_t, _ = sess.run([loss, train_step], feed_dict)\n",
    "    metrics_kl['train_loss'].append((step, loss_t))\n",
    "    \n",
    "    if step % 100 == 0:\n",
    "        metrics_kl['dev_bleu'].append((step, evaluate(model, dev_inp, dev_out)))\n",
    "        \n",
    "        clear_output(True)\n",
    "        plt.figure(figsize=(12,4))\n",
    "        for i, (name, history) in enumerate(sorted(metrics_kl.items())):\n",
    "            plt.subplot(1, len(metrics), i + 1)\n",
    "            plt.title(name)\n",
    "            plt.plot(*zip(*history))\n",
    "            plt.grid()\n",
    "        plt.show()\n",
    "        print(\"Mean loss=%.3f\" % np.mean(metrics_kl['train_loss'][-10:], axis=0)[1], flush=True)"
   ]
  },
  {
   "cell_type": "markdown",
   "metadata": {},
   "source": [
    "Видим, что bleu продолжает рости и значит мы не дообучились. Пообучаемся еще немного."
   ]
  },
  {
   "cell_type": "code",
   "execution_count": 22,
   "metadata": {},
   "outputs": [
    {
     "data": {
      "image/png": "[encoded data removed]",
      "text/plain": [
       "<Figure size 864x288 with 2 Axes>"
      ]
     },
     "metadata": {
      "needs_background": "light"
     },
     "output_type": "display_data"
    },
    {
     "name": "stdout",
     "output_type": "stream",
     "text": [
      "Mean loss=0.590\n"
     ]
    }
   ],
   "source": [
    "for _ in range(1000):\n",
    "    step = len(metrics_kl['train_loss']) + 1\n",
    "    batch_ix = np.random.randint(len(train_inp), size=32)\n",
    "    feed_dict = {\n",
    "        inp: inp_voc.to_matrix(train_inp[batch_ix]),\n",
    "        out: out_voc.to_matrix(train_out[batch_ix]),\n",
    "    }\n",
    "    \n",
    "    loss_t, _ = sess.run([loss, train_step], feed_dict)\n",
    "    metrics_kl['train_loss'].append((step, loss_t))\n",
    "    \n",
    "    if step % 100 == 0:\n",
    "        metrics_kl['dev_bleu'].append((step, evaluate(model, dev_inp, dev_out)))\n",
    "        \n",
    "        clear_output(True)\n",
    "        plt.figure(figsize=(12,4))\n",
    "        for i, (name, history) in enumerate(sorted(metrics_kl.items())):\n",
    "            plt.subplot(1, len(metrics), i + 1)\n",
    "            plt.title(name)\n",
    "            plt.plot(*zip(*history))\n",
    "            plt.grid()\n",
    "        plt.show()\n",
    "        print(\"Mean loss=%.3f\" % np.mean(metrics_kl['train_loss'][-10:], axis=0)[1], flush=True)\n",
    "        "
   ]
  },
  {
   "cell_type": "markdown",
   "metadata": {},
   "source": [
    "Видим, что получились немного похуже, что и логично. Пытаемся fine-tune-ить не сильно меняя веса. Мы получили качество похуже, чем раннее, но зато мы теперь имеем более большую обощающую способность : мы много помним из того, что говорил нам учитель."
   ]
  },
  {
   "cell_type": "code",
   "execution_count": 23,
   "metadata": {},
   "outputs": [
    {
     "name": "stdout",
     "output_type": "stream",
     "text": [
      "numerous restaurants serving freshly prepared mediterranean cuisine can be reached on foot from remisens premium villa amalia .\n",
      "в многочисленных ресторанах , где подают свежеприготовленные блюда средиземноморской кухни , могут быть дойти от отеля remons premium villa amalia . \n",
      "\n",
      "offering outdoor pool , ravnen is located in hasle and can accommodate up to six people .\n",
      "гостевой дом ravnen расположен в хасле , в котором могут разместиться до 6 человек . \n",
      "\n",
      "guests can enjoy a meal at the in - house restaurant .\n",
      "в ресторане отеля работает ресторан . \n",
      "\n",
      "just 100 metres from the lake balaton in szántód , granada medencés apartmanház features a free seasonal outdoor , as well as self - catered accommodation with a terrace and free wifi in all areas .\n",
      "апартаменты granada medincés с бесплатным сезонным открытым небом и бесплатным wifi находятся в городе сантёд , всего в 100 метрах от озера балатон . \n",
      "\n",
      "other facilities offered include grocery deliveries , water sports facilities and a tour desk .\n",
      "в числе прочих удобств доставка продуктов , оборудование для занятий водными видами спорта и экскурсионное бюро . \n",
      "\n",
      "a continental breakfast is served in high season and an american breakfast is offered in low season .\n",
      "в отеле сервируют континентальный завтрак , а в отеле сервируют американский завтрак . \n",
      "\n",
      "fresh flowers , 2 free bottles of water and snacks are provided daily in rooms .\n",
      "в номерах отеля есть свежие цветы , 2 бесплатные бутылки воды и закуски . \n",
      "\n",
      "featuring a garden and free wi - fi , apartments marko is located in split . it is 500 metres from the beach and restaurants . diocletian ' s palace and cathedral of saint domnius are 9 km away .\n",
      "апартаменты marko с садом и бесплатным wifi расположены в городе сплит , в 500 метрах от пляжа и ресторанов , а также дворца диоклетиана и собор святого доминия . \n",
      "\n",
      "apartamenty sun & snow przemysłowa are located in the quiet outskirts of karpacz , and offer modern apartments - most with furnished balconies .\n",
      "апартаменты sun & snow przemysłowa расположены в тихой окраине города карпач , в тихом месте , в распоряжении гостей современные апартаменты - студио с меблированным балконом . \n",
      "\n",
      "tambor is 44 km from the property .\n",
      "расстояние до города тамбор составляет 44 км . \n",
      "\n"
     ]
    }
   ],
   "source": [
    "indeces = np.random.choice(np.arange(len(dev_inp)), 10)\n",
    "\n",
    "translation = model.translate_lines(dev_inp[indeces])[0]\n",
    "\n",
    "clear_translation = [line.replace('@@ ', '') for line in translation]\n",
    "\n",
    "for i in range(10):\n",
    "    print(dev_inp[indeces][i].replace('@@ ', ''))\n",
    "    print(clear_translation[i], '\\n')"
   ]
  },
  {
   "cell_type": "markdown",
   "metadata": {},
   "source": [
    "### Bonus tasks:\n",
    "Both tasks start at 3 points for basic solution and a ton more if you do something as awesome as the stuff from the lecture.\n",
    "\n",
    "1. __Domain adaptation with unlabeled data:__\n",
    " * In machine translation, it's relatively easy to obtain unparallel data. For the hotels task, there's almost 10x as large a corpora available if you \n",
    " * Download the full data [here](https://yadi.sk/d/zrYuTKQ63S33m3)\n",
    " * The dataset was originally provided by [Tilde](https://www.tilde.com/). Huge thanks to them! :)\n",
    " * The goal is simple: improve the model using the extra data. You can use proxy labels, pre-train as language model or do literally anything else.\n",
    " * Using extra out-of-domain data, whether parallel or not, is also encouraged. Here's [statmt](http://www.statmt.org/) with parallel corpora section at the bottom.\n",
    "\n",
    " \n",
    "2. __Beam search:__\n",
    " * While it's not related to domain adaption, beam search is a good general way to improve model inference.\n",
    " * The key idea of beam search if to consider not top-1 but top-K hypotheses at each step\n",
    " * In the example below, k=4\n",
    " * Whenever a hypothesis in top-K is finished (with a `_EOS_`), record it and remember it's score.\n",
    " * Iterate until all hypotheses are already worse than the best finished hypo."
   ]
  },
  {
   "cell_type": "code",
   "execution_count": null,
   "metadata": {},
   "outputs": [],
   "source": [
    "!wget https://raw.githubusercontent.com/yandexdataschool/nlp_course/master/resources/beam_search.html 2> log\n",
    "from IPython.display import HTML\n",
    "# source: parlament does not support the amendment freeing tymoshenko\n",
    "HTML('./beam_search.html')"
   ]
  }
 ],
 "metadata": {
  "kernelspec": {
   "display_name": "Python 3",
   "language": "python",
   "name": "python3"
  },
  "language_info": {
   "codemirror_mode": {
    "name": "ipython",
    "version": 3
   },
   "file_extension": ".py",
   "mimetype": "text/x-python",
   "name": "python",
   "nbconvert_exporter": "python",
   "pygments_lexer": "ipython3",
   "version": "3.6.6"
  }
 },
 "nbformat": 4,
 "nbformat_minor": 1
}
