{
 "cells": [
  {
   "cell_type": "markdown",
   "metadata": {},
   "source": [
    "**Maximum likelihood estimatation from observed and unobserved data**\n",
    "\n",
    "You are given a bag containing red and blue coins. All the red coins have the same probability of heads. All the blue coins have the same probability of heads (possibly different from that of the red coins).\n",
    "\n",
    "Your task is to estimate the proportion of red coins in the bag and the probability of heads for both the red and the blue coin."
   ]
  },
  {
   "cell_type": "code",
   "execution_count": null,
   "metadata": {
    "collapsed": true
   },
   "outputs": [],
   "source": []
  },
  {
   "cell_type": "code",
   "execution_count": 36,
   "metadata": {
    "scrolled": true
   },
   "outputs": [
    {
     "data": {
      "application/vnd.jupyter.widget-view+json": {
       "model_id": "2b1c6dc2be70461c8ad0c4b080093a25",
       "version_major": 2,
       "version_minor": 0
      },
      "text/plain": [
       "FloatSlider(value=0.3, description='prob_red', max=0.99, min=0.3)"
      ]
     },
     "metadata": {},
     "output_type": "display_data"
    },
    {
     "data": {
      "application/vnd.jupyter.widget-view+json": {
       "model_id": "eb57c1142c804593bc00992aaab1f000",
       "version_major": 2,
       "version_minor": 0
      },
      "text/plain": [
       "FloatSlider(value=0.1, description='head_red', max=0.99, min=0.1)"
      ]
     },
     "metadata": {},
     "output_type": "display_data"
    },
    {
     "data": {
      "application/vnd.jupyter.widget-view+json": {
       "model_id": "840688cf7ffb4099a1265e41922188b5",
       "version_major": 2,
       "version_minor": 0
      },
      "text/plain": [
       "FloatSlider(value=0.1, description='head_blue', max=0.99, min=0.1)"
      ]
     },
     "metadata": {},
     "output_type": "display_data"
    }
   ],
   "source": [
    "import ipywidgets as widgets\n",
    "\n",
    "prob_red = widgets.FloatSlider(min=0.3, max=0.99, description='prob_red')\n",
    "prob_head_red = widgets.FloatSlider(min=0.1, max=0.99, description='head_red')\n",
    "prob_head_blue = widgets.FloatSlider(min=0.1, max=0.99, description='head_blue')\n",
    "display(prob_red, prob_head_red, prob_head_blue)"
   ]
  },
  {
   "cell_type": "markdown",
   "metadata": {},
   "source": [
    "Use these widgets to control the model."
   ]
  },
  {
   "cell_type": "code",
   "execution_count": 2,
   "metadata": {},
   "outputs": [],
   "source": [
    "import random\n",
    "def choose_coin():\n",
    "    return 'R' if random.random() < prob_red.value else 'B'\n",
    "\n",
    "def flip_coin(coin):\n",
    "    uar = random.random()\n",
    "    if coin == 'R':\n",
    "        if uar < prob_head_red.value:\n",
    "            return 'H'\n",
    "    elif uar < prob_head_blue.value:\n",
    "        return 'H'\n",
    "    return 'T'\n",
    "\n",
    "def flip_random_coin_n_times(n, hidden=False):\n",
    "    coin = choose_coin()\n",
    "    return ('_' if hidden else coin, ''.join([flip_coin(coin) for i in range(n)]))\n",
    "\n",
    "def flip_m_random_coins_n_times(m, n, hidden=False):\n",
    "    return [flip_random_coin_n_times(n, hidden) for i in range(m)]"
   ]
  },
  {
   "cell_type": "markdown",
   "metadata": {},
   "source": [
    "Use the above methods to sample from the model. The optional parameter 'hidden' controls whether the colour of the coin is observed in the samples."
   ]
  },
  {
   "cell_type": "code",
   "execution_count": 3,
   "metadata": {},
   "outputs": [
    {
     "data": {
      "text/plain": [
       "[('B',\n",
       "  'TTTTTTTTTTTTTTTTTTTTTTTTTTTTTHTTTTTTTTTTTTTTHTTTHTTTTTHTTTTTTTTTTTTHTTTHHTTTTTTTHTHHTTTTTHTTTTTHTTTT'),\n",
       " ('R',\n",
       "  'TTTTTTTTTTTTTTTTTTTTTTTTTTTTTTTTHTHTTTHTTTTHTTTTTTTTTTTTTTTTTTTTTTTTHTTTTTTTTTTTTHTTTTTTTTTTHTTTHTTH'),\n",
       " ('B',\n",
       "  'HTTTTTTHTTTTTTTTTTTTTTTHTTTTTTTTTTTHTTTTTHTTTTTTTTTTTTTTTTTTTTTTTTTTTTTTTTTTTHTTTTTTTTTTTTTTTTHTTTTT'),\n",
       " ('B',\n",
       "  'TTTTHTTHTTTTTTTTTTHTTTTHTTTTTTTTTTTTTTTHTTTTTTTTTTTHTHTTTTTTTTTTTTTTTTTTTTTTTTTTTTTTTTTTTTTTHTTTTTHT'),\n",
       " ('B',\n",
       "  'THTTTHTTTHTTTTTTTTTTTHTTHTTTTTTTTTTTTTTTTTTTTHTTTTTTTTTHHHTTTTTTTTTTHTTHTTTTTTHTTHTTTTTTTTTTTTTTHTHT')]"
      ]
     },
     "execution_count": 3,
     "metadata": {},
     "output_type": "execute_result"
    }
   ],
   "source": [
    "flip_m_random_coins_n_times(5, 100)"
   ]
  },
  {
   "cell_type": "code",
   "execution_count": 4,
   "metadata": {},
   "outputs": [
    {
     "data": {
      "text/plain": [
       "[('_',\n",
       "  'TTTTHTTTTTTTHTTTTTHTTTTTTTHTTHHTTTTTTTHTTHTTTTTTTTHTTTTTTTTTTTTTTTTTTTTTHHHTTTTTTTTTTHTTHTTTTTHTTTTT'),\n",
       " ('_',\n",
       "  'TTTTTTTHTTTTTHTTTHHTTTTTTTTHTTTTTTTTTTTHHTHHTTTTTTTTTTTTHHTTTTTTTTTTTTTTTTHTTTTTTTTTTTTTTTTTTTTTTTTT'),\n",
       " ('_',\n",
       "  'TTTTHTTTTTTTTTTTTTTTTHTTTTTTTTHHHTTTTTTTTTTTTTTTHHTTTTTTTTTTTTTTTTTTTTTTTTTTTTHHTTTTTTTTTTTHTTTTTHTT'),\n",
       " ('_',\n",
       "  'TTTTTTTTTTTTTHTTTTTTTTTTTTTTTTTTTTTTHTTHTTTTTTTTHTTTTHTTTTTHTTTTTTHTTTTTTTTHTTTTTTTTTTHTTTTTTTTTTTTT'),\n",
       " ('_',\n",
       "  'THTTTTTHHHTTTTTTHHHTTTTTTTTTTTTTTTTTTTTTTTTTTHTTTHTTTTTTTHTTTTTTTTTTTTTTTTTTTTTTTTTTTHTTTTTHTTTHTTTH')]"
      ]
     },
     "execution_count": 4,
     "metadata": {},
     "output_type": "execute_result"
    }
   ],
   "source": [
    "flip_m_random_coins_n_times(5, 100, hidden=True)"
   ]
  },
  {
   "cell_type": "markdown",
   "metadata": {},
   "source": [
    "**TASK 1** Implement the following two functions to estimate parameters for the model in the observed case. Splitting the work into two separate functions will simplify things for the next task. \n",
    "\n",
    "* How could you measure the error in your estimates?\n",
    "* How does the error decrease with the sample size?\n",
    "* If you were only allowed to flip coins a total of N times how would you choose m (the number of coins) and n the number of times to flip each coin? Why?"
   ]
  },
  {
   "cell_type": "code",
   "execution_count": 33,
   "metadata": {},
   "outputs": [],
   "source": [
    "def compute_sufficient_statistics(samples):\n",
    "    'Implement me to compute the sufficient statistics for the model from the samples.'\n",
    "    count_red = 0\n",
    "    count_blue = 0\n",
    "    count_red_head = 0\n",
    "    cond_blue_head = 0\n",
    "    for elem in samples:\n",
    "        if elem[0] == 'R':\n",
    "            count_red += len(elem[1])\n",
    "            count_red_head += elem[1].count('H')\n",
    "        else:\n",
    "            count_blue += len(elem[1])\n",
    "            cond_blue_head += elem[1].count('H')\n",
    "\n",
    "    return (count_red, count_blue, count_red_head, cond_blue_head)\n",
    "\n",
    "def mle(sufficient_statistics):\n",
    "    'Implement me to compute mle parameter estimates given sufficient statistics.'\n",
    "    count_red, count_blue, count_red_head, count_blue_head = sufficient_statistics\n",
    "    N = count_red + count_blue\n",
    "    prob_red = count_red / N\n",
    "    prob_head_red =  count_red_head / count_red\n",
    "    prob_head_blue = count_blue_head / count_blue\n",
    "    return prob_red, prob_head_red, prob_head_blue\n",
    "    \n",
    "    "
   ]
  },
  {
   "cell_type": "code",
   "execution_count": null,
   "metadata": {},
   "outputs": [],
   "source": []
  },
  {
   "cell_type": "markdown",
   "metadata": {},
   "source": [
    "**TASK 2** Given a sample from a single coin whose colour is unobserved, estimate the posterior probability that the coin is red, given some estimates of the model parameters.\n",
    "\n",
    "* If you pass in the true model parameters (e.g. prob_red.value, prob_head_red.value and prob_head_blue.value), how quickly does the posterior change? Use the plot_distribution function to view this.\n",
    "* How does this depend on the model parameters?"
   ]
  },
  {
   "cell_type": "code",
   "execution_count": 55,
   "metadata": {},
   "outputs": [],
   "source": [
    "def compute_posterior_prob_red(sample, estimate_prob_red, estimate_prob_head_red, estimate_prob_head_blue):\n",
    "    'Implement me to compute posterior probability that the sample came from the red coin.'\n",
    "#     p_x_given_r = 1\n",
    "#     p_x_given_b = 1\n",
    "#     for elem in sample:\n",
    "#         if elem == 'T':\n",
    "#             p_x_given_r *= 1 - estimate_prob_head_red\n",
    "#             p_x_given_b *= 1 - estimate_prob_head_blue\n",
    "#         else:\n",
    "#             p_x_given_r *= estimate_prob_head_red\n",
    "#             p_x_given_b *= estimate_prob_head_blue\n",
    "            \n",
    "    p_x_given_r = (1 - estimate_prob_head_red) ** sample.count('T') * estimate_prob_head_red ** sample.count('H')\n",
    "    p_x_given_b = (1 - estimate_prob_head_blue) ** sample.count('T') * estimate_prob_head_blue** sample.count('H')\n",
    "\n",
    "    posterior_red = p_x_given_r * estimate_prob_red\n",
    "    posterior_blue = p_x_given_b * (1 - estimate_prob_red)\n",
    "    posterior_red = posterior_red / (posterior_red + posterior_blue)\n",
    "    return posterior_red"
   ]
  },
  {
   "cell_type": "code",
   "execution_count": 38,
   "metadata": {},
   "outputs": [
    {
     "name": "stdout",
     "output_type": "stream",
     "text": [
      "0.39 0.29205128205128206 0.20278688524590163\n"
     ]
    }
   ],
   "source": [
    "sample = flip_m_random_coins_n_times(100, 100, hidden=False)\n",
    "estimate_prob_red, estimate_prob_head_red, estimate_prob_head_blue = mle(compute_sufficient_statistics(sample))\n",
    "\n",
    "print(estimate_prob_red, estimate_prob_head_red, estimate_prob_head_blue)"
   ]
  },
  {
   "cell_type": "markdown",
   "metadata": {
    "collapsed": true
   },
   "source": [
    "This is nearly the same what we can see on widgets"
   ]
  },
  {
   "cell_type": "markdown",
   "metadata": {},
   "source": [
    "**TASK 3** Reusing your code from Tasks 1 and 2, implement expectation maximization algorithm to find a (locally optimal) solution to the parameters when the colour of the coins is not observed."
   ]
  },
  {
   "cell_type": "code",
   "execution_count": 61,
   "metadata": {},
   "outputs": [],
   "source": [
    "def compute_expected_statistics(samples, estimate_prob_red, estimate_prob_head_red, estimate_prob_head_blue):\n",
    "    'Compute the sufficient statistics for this sample given these parameter estimates.'\n",
    "    posterior_count_head_red = 0\n",
    "    posterior_count_head_blue = 0\n",
    "    posterior_count_red = 0\n",
    "    posterior_count_blue = 0\n",
    "    for sample in samples:\n",
    "        \n",
    "        posterior_prob = compute_posterior_prob_red(sample[1], estimate_prob_red, \n",
    "                                                    estimate_prob_head_red, estimate_prob_head_blue)\n",
    "        \n",
    "        posterior_count_head_red += posterior_prob * sample[1].count('H')\n",
    "        posterior_count_head_blue +=  (1 - posterior_prob) * sample[1].count('H')\n",
    "        \n",
    "        posterior_count_red += posterior_prob * len(sample[1])\n",
    "        posterior_count_blue += (1 - posterior_prob) * len(sample[1])\n",
    "        \n",
    "    return posterior_count_red, posterior_count_blue, posterior_count_head_red, posterior_count_head_blue\n",
    "    \n",
    "    \n",
    "def expectation_maximization(samples, iterations, estimate_prob_red, estimate_prob_head_red, estimate_prob_head_blue):\n",
    "    'Compute the mle parameter estimates for the model from a sample without labels. '\n",
    "    \n",
    "    for _ in range(iterations):\n",
    "        # expectation\n",
    "        count_red, count_blue, count_head_red, count_head_blue = compute_expected_statistics(samples, \n",
    "                                                                                             estimate_prob_red, \n",
    "                                                                                             estimate_prob_head_red, \n",
    "                                                                                             estimate_prob_head_blue)\n",
    "        \n",
    "        # maximization\n",
    "        estimate_prob_red, estimate_prob_head_red, estimate_prob_head_blue = mle((count_red, count_blue, count_head_red, count_head_blue))\n",
    "\n",
    "    return estimate_prob_red, estimate_prob_head_red, estimate_prob_head_blue\n",
    "        \n",
    "    "
   ]
  },
  {
   "cell_type": "markdown",
   "metadata": {},
   "source": [
    "Estimation with visible labels"
   ]
  },
  {
   "cell_type": "code",
   "execution_count": 63,
   "metadata": {},
   "outputs": [
    {
     "name": "stdout",
     "output_type": "stream",
     "text": [
      "0.404 0.2983910891089109 0.19552013422818793\n"
     ]
    }
   ],
   "source": [
    "sample = flip_m_random_coins_n_times(1000, 100, hidden=False)\n",
    "estimate_prob_red, estimate_prob_head_red, estimate_prob_head_blue = mle(compute_sufficient_statistics(sample))\n",
    "\n",
    "print(estimate_prob_red, estimate_prob_head_red, estimate_prob_head_blue)"
   ]
  },
  {
   "cell_type": "markdown",
   "metadata": {},
   "source": [
    "Estimation with hidden labels using EM-algorithm"
   ]
  },
  {
   "cell_type": "code",
   "execution_count": 64,
   "metadata": {},
   "outputs": [
    {
     "data": {
      "text/plain": [
       "(0.4041371087959315, 0.2960913788601573, 0.19839880608971838)"
      ]
     },
     "execution_count": 64,
     "metadata": {},
     "output_type": "execute_result"
    }
   ],
   "source": [
    "samples = flip_m_random_coins_n_times(1000, 100, hidden=True)\n",
    "expectation_maximization(samples, 20,  0.5, 0.6, 0.1)"
   ]
  },
  {
   "cell_type": "markdown",
   "metadata": {},
   "source": [
    "Really similar results! "
   ]
  }
 ],
 "metadata": {
  "kernelspec": {
   "display_name": "Python 3",
   "language": "python",
   "name": "python3"
  },
  "language_info": {
   "codemirror_mode": {
    "name": "ipython",
    "version": 3
   },
   "file_extension": ".py",
   "mimetype": "text/x-python",
   "name": "python",
   "nbconvert_exporter": "python",
   "pygments_lexer": "ipython3",
   "version": "3.6.6"
  }
 },
 "nbformat": 4,
 "nbformat_minor": 2
}
